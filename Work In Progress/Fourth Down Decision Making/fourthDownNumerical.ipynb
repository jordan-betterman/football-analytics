{
 "cells": [
  {
   "cell_type": "markdown",
   "metadata": {},
   "source": [
    "### Description:\n",
    "This file shows the results for not using categorical intervals for time and field position."
   ]
  },
  {
   "cell_type": "code",
   "execution_count": 5,
   "metadata": {},
   "outputs": [],
   "source": [
    "import pandas as pd\n",
    "import numpy as np\n",
    "\n",
    "dataframe = pd.read_csv(\"big_ten_pbp.csv\")\n",
    "\n",
    "dataframe[\"soccer_time\"] = dataframe[\"period\"] * (\n",
    "    16 - (dataframe[\"minutes\"] + (dataframe[\"seconds\"] / 60)).round(0)\n",
    ").astype(\"int32\")\n",
    "\n",
    "dataframe[\"score_differential\"] = (\n",
    "    dataframe[\"offense_score\"] - dataframe[\"defense_score\"]\n",
    ")\n",
    "big_ten = dataframe[dataframe[\"offense_conference\"] == \"Big Ten\"]"
   ]
  },
  {
   "cell_type": "code",
   "execution_count": 6,
   "metadata": {},
   "outputs": [
    {
     "name": "stderr",
     "output_type": "stream",
     "text": [
      "/tmp/ipykernel_4779/3670562298.py:17: SettingWithCopyWarning: \n",
      "A value is trying to be set on a copy of a slice from a DataFrame.\n",
      "Try using .loc[row_indexer,col_indexer] = value instead\n",
      "\n",
      "See the caveats in the documentation: https://pandas.pydata.org/pandas-docs/stable/user_guide/indexing.html#returning-a-view-versus-a-copy\n",
      "  big_ten[\"points_scored\"] = np.select(conditions, values)\n"
     ]
    },
    {
     "data": {
      "text/plain": [
       "array([ 0,  7,  3, -7,  2])"
      ]
     },
     "execution_count": 6,
     "metadata": {},
     "output_type": "execute_result"
    }
   ],
   "source": [
    "conditions = [\n",
    "    (big_ten[\"play_type\"] == \"Field Goal Missed\"),\n",
    "    (big_ten[\"play_type\"] == \"Field Goal Good\"),\n",
    "    (big_ten[\"play_type\"] == \"Passing Touchdown\")\n",
    "    | (big_ten[\"play_type\"] == \"Rusing Touchdown\"),\n",
    "    (big_ten[\"play_type\"] == \"Interception Return Touchdown\")\n",
    "    | (big_ten[\"play_type\"] == \"Fumble Return Touchdown\")\n",
    "    | (big_ten[\"play_type\"] == \"Punt Return Touchdown\")\n",
    "    | (big_ten[\"play_type\"] == \"Blocked Punt Touchdown\")\n",
    "    | (big_ten[\"play_type\"] == \"Missed Field Goal Return Touchdown\")\n",
    "    | (big_ten[\"play_type\"] == \"Blocked Field Goal Touchdown\"),\n",
    "    (big_ten[\"play_type\"] == \"Safety\"),\n",
    "]\n",
    "\n",
    "values = [0, 3, 7, -7, 2]\n",
    "\n",
    "big_ten[\"points_scored\"] = np.select(conditions, values)\n",
    "\n",
    "big_ten = big_ten[(big_ten[\"down\"] > 0)]\n",
    "big_ten = big_ten[(big_ten[\"distance\"] > 0)]\n",
    "\n",
    "\n",
    "big_ten[\"points_scored\"].unique()"
   ]
  },
  {
   "cell_type": "code",
   "execution_count": 7,
   "metadata": {},
   "outputs": [
    {
     "data": {
      "text/plain": [
       "array([ 0.        ,  7.        ,  3.        ,  3.5       ,  4.66666667,\n",
       "        2.33333333, -1.4       ,  1.4       , -7.        ,  2.8       ,\n",
       "        2.        ,  0.875     ,  1.75      , -3.5       ,  1.16666667,\n",
       "        1.55555556, -1.27272727,  1.27272727,  0.75      ,  1.        ,\n",
       "        1.5       ,  5.25      ])"
      ]
     },
     "execution_count": 7,
     "metadata": {},
     "output_type": "execute_result"
    }
   ],
   "source": [
    "grouped = (\n",
    "    big_ten.groupby(\n",
    "        [\"down\", \"distance\", \"soccer_time\", \"yard_line\", \"score_differential\"]\n",
    "    )[\"points_scored\"]\n",
    "    .agg([\"sum\", \"count\", \"mean\", \"median\"])\n",
    "    .reset_index()\n",
    ")\n",
    "grouped[\"mean\"].unique()"
   ]
  },
  {
   "cell_type": "code",
   "execution_count": 8,
   "metadata": {},
   "outputs": [
    {
     "name": "stdout",
     "output_type": "stream",
     "text": [
      "0 completed\n",
      "10000 completed\n",
      "20000 completed\n",
      "30000 completed\n",
      "40000 completed\n",
      "50000 completed\n",
      "60000 completed\n"
     ]
    },
    {
     "ename": "",
     "evalue": "",
     "output_type": "error",
     "traceback": [
      "\u001b[1;31mCannot execute code, session has been disposed. Please try restarting the Kernel."
     ]
    },
    {
     "ename": "",
     "evalue": "",
     "output_type": "error",
     "traceback": [
      "\u001b[1;31mThe Kernel crashed while executing code in the the current cell or a previous cell. Please review the code in the cell(s) to identify a possible cause of the failure. Click <a href='https://aka.ms/vscodeJupyterKernelCrash'>here</a> for more info. View Jupyter <a href='command:jupyter.viewOutput'>log</a> for further details."
     ]
    }
   ],
   "source": [
    "# this cell is placing xP values in the right rows and then subtracting the points scored from the xp to get the xP added for the play.\n",
    "# I wanted to see the average difference between my xPa model compared to the College football data's version of it\n",
    "intervals = []\n",
    "conditions = []\n",
    "\n",
    "i = 0\n",
    "for row in grouped.to_dict(\"records\"):\n",
    "    if i % 10000 == 0:\n",
    "        print(f\"{i} completed\")\n",
    "    intervals.append(row[\"mean\"])\n",
    "    conditions.append(\n",
    "        (big_ten[\"down\"] == row[\"down\"])\n",
    "        & (big_ten[\"distance\"] == row[\"distance\"])\n",
    "        & (big_ten[\"soccer_time\"] == row[\"soccer_time\"])\n",
    "        & (big_ten[\"yard_line\"] == row[\"yard_line\"])\n",
    "        & (big_ten[\"score_differential\"] == row[\"score_differential\"])\n",
    "    )\n",
    "    i += 1\n",
    "\n",
    "big_ten[\"xP\"] = np.select(conditions, intervals)\n",
    "big_ten[\"xPa\"] = big_ten[\"points_scored\"] - big_ten[\"xP\"]\n",
    "\n",
    "epa_diff = big_ten[\"xPa\"] - big_ten[\"ppa\"]\n",
    "epa_diff.mean()"
   ]
  },
  {
   "cell_type": "code",
   "execution_count": null,
   "metadata": {},
   "outputs": [],
   "source": [
    "# This cell is pulling and calculating the probability a first down is acheived by down and distance\n",
    "# This will be used in the model making process to gauge how probable it is to make a first down\n",
    "\n",
    "big_ten[\"got_first_down\"] = big_ten[\"yards_gained\"] >= big_ten[\"distance\"]\n",
    "\n",
    "first_down_prob = (\n",
    "    big_ten.groupby([\"down\", \"distance\"])[\"got_first_down\"]\n",
    "    .agg([\"sum\", \"count\"])\n",
    "    .reset_index()\n",
    ")\n",
    "first_down_prob[\"first_down_prob\"] = first_down_prob[\"sum\"] / first_down_prob[\"count\"]\n",
    "\n",
    "intervals = []\n",
    "conditions = []\n",
    "\n",
    "for i in range(len(first_down_prob)):\n",
    "    intervals.append(first_down_prob[\"first_down_prob\"][i])\n",
    "    conditions.append(\n",
    "        (big_ten[\"down\"] == first_down_prob[\"down\"][i])\n",
    "        & (big_ten[\"distance\"] == first_down_prob[\"distance\"][i])\n",
    "    )\n",
    "\n",
    "big_ten[\"first_down_prob\"] = np.select(conditions, intervals)"
   ]
  },
  {
   "cell_type": "code",
   "execution_count": null,
   "metadata": {},
   "outputs": [],
   "source": [
    "# Now let's create the models for the usual 4th down decision making. I will make 3 different models (Field Goals, Go For It, and Punting)\n",
    "\n",
    "subset = big_ten[\n",
    "    [\n",
    "        \"play_type\",\n",
    "        \"down\",\n",
    "        \"distance\",\n",
    "        \"soccer_time\",\n",
    "        \"yard_line\",\n",
    "        \"score_differential\",\n",
    "        \"first_down_prob\",\n",
    "        \"xPa\",\n",
    "    ]\n",
    "]\n",
    "subset = subset[~subset[\"play_type\"].isin([\"Kickoff\", \"Uncategorized\"])]\n",
    "\n",
    "fourth_down = subset[subset[\"down\"] == 4]\n",
    "predictiors = fourth_down.columns.drop([\"xPa\", \"play_type\"])\n",
    "prediction_set = fourth_down[predictiors]"
   ]
  },
  {
   "cell_type": "markdown",
   "metadata": {},
   "source": [
    "The models will be split up by the 3 decisions that could be made. One model for Field Goals, one for punting, and one for going for it.\n",
    "I will then use each model to predict the xPa value for each 4th down situation for each deicison."
   ]
  },
  {
   "cell_type": "code",
   "execution_count": null,
   "metadata": {},
   "outputs": [
    {
     "name": "stderr",
     "output_type": "stream",
     "text": [
      "INFO:root:Best r2 after tuning max depth is: 0.5332176374510551\n",
      "INFO:root:Best r2 after tuning n_estimators is: 0.5368776261798488\n",
      "INFO:root:Best r2 after tuning min samples split is: 0.5368776261798488\n",
      "INFO:root:Best r2 after tuning min samples leaf is: 0.5368776261798488\n",
      "INFO:root:Best r2 after tuning max features is: 0.5694320688930051\n",
      "INFO:root:Final Model Accuracy 0.5694320688930051\n",
      "INFO:root:Tuned parameters: {'max_depth': 21, 'n_estimators': 150, 'min_samples_split': 2, 'min_samples_leaf': 1, 'max_features': 1}\n",
      "INFO:root:Random Forest Feature Importance [0.         0.0908242  0.21889899 0.3840234  0.20340367 0.10284974]\n"
     ]
    },
    {
     "name": "stdout",
     "output_type": "stream",
     "text": [
      "{'max_depth': 21, 'n_estimators': 150, 'min_samples_split': 2, 'min_samples_leaf': 1, 'max_features': 1}\n"
     ]
    }
   ],
   "source": [
    "from sklearn.model_selection import train_test_split\n",
    "from utils.utils import rf_regress_params_tuner\n",
    "\n",
    "\n",
    "field_goals_dummies = fourth_down[\n",
    "    fourth_down[\"play_type\"].isin(\n",
    "        [\n",
    "            \"Field Goal Good\",\n",
    "            \"Missed Field Goal Return Touchdown\",\n",
    "            \"Missed Field Goal Return\",\n",
    "            \"Blocked Field Goal\",\n",
    "            \"Field Goal Missed\",\n",
    "            \"Blocked Field Goal Touchdown\",\n",
    "        ]\n",
    "    )\n",
    "]\n",
    "\n",
    "predictors = field_goals_dummies.columns.drop(\n",
    "    [\"xPa\", \"play_type\"]\n",
    ")  # predictor variables used: all variables besides the target variable\n",
    "target = field_goals_dummies[\"xPa\"].values  # target variable\n",
    "\n",
    "\n",
    "# splits the subset into a training set to fit the models on and a testing set to test the models on for their accuracy\n",
    "fg_train_data, fg_test_data, fg_train_sln, fg_test_sln = train_test_split(\n",
    "    field_goals_dummies[predictors], target, test_size=0.2, random_state=0\n",
    ")\n",
    "\n",
    "field_goals_params = rf_regress_params_tuner(\n",
    "    fg_train_data, fg_test_data, fg_train_sln, fg_test_sln, field_goals_dummies\n",
    ")\n",
    "print(field_goals_params)"
   ]
  },
  {
   "cell_type": "code",
   "execution_count": null,
   "metadata": {},
   "outputs": [
    {
     "name": "stderr",
     "output_type": "stream",
     "text": [
      "INFO:root:Best r2 after tuning max depth is: 0.5941965164797006\n",
      "INFO:root:Best r2 after tuning n_estimators is: 0.5976912009036544\n",
      "INFO:root:Best r2 after tuning min samples split is: 0.5976912009036544\n",
      "INFO:root:Best r2 after tuning min samples leaf is: 0.5976912009036544\n",
      "INFO:root:Best r2 after tuning max features is: 0.6179211505967168\n",
      "INFO:root:Final Model Accuracy 0.6179211505967168\n",
      "INFO:root:Tuned parameters: {'max_depth': 23, 'n_estimators': 700, 'min_samples_split': 2, 'min_samples_leaf': 1, 'max_features': 1}\n",
      "INFO:root:Random Forest Feature Importance [0.         0.10791966 0.23842779 0.32399791 0.23678583 0.0928688 ]\n"
     ]
    }
   ],
   "source": [
    "punts_dummies = fourth_down[\n",
    "    fourth_down[\"play_type\"].isin(\n",
    "        [\"Punt\", \"Blocked Punt\", \"Punt Return Touchdown\", \"Blocked Punt Touchdown\"]\n",
    "    )\n",
    "]\n",
    "\n",
    "\n",
    "predictors = punts_dummies.columns.drop(\n",
    "    [\"xPa\", \"play_type\"]\n",
    ")  # predictor variables used: all variables besides the target variable\n",
    "target = punts_dummies[\"xPa\"].values  # target variable\n",
    "\n",
    "\n",
    "# splits the subset into a training set to fit the models on and a testing set to test the models on for their accuracy\n",
    "punts_train_data, punts_test_data, punts_train_sln, punts_test_sln = train_test_split(\n",
    "    punts_dummies[predictors], target, test_size=0.2, random_state=0\n",
    ")\n",
    "\n",
    "punts_params = rf_regress_params_tuner(\n",
    "    punts_train_data, punts_test_data, punts_train_sln, punts_test_sln, punts_dummies\n",
    ")"
   ]
  },
  {
   "cell_type": "code",
   "execution_count": null,
   "metadata": {},
   "outputs": [
    {
     "name": "stderr",
     "output_type": "stream",
     "text": [
      "INFO:root:Best r2 after tuning max depth is: 0.3619353969636485\n",
      "INFO:root:Best r2 after tuning n_estimators is: 0.4501139148598493\n",
      "INFO:root:Best r2 after tuning min samples split is: 0.4501139148598493\n",
      "INFO:root:Best r2 after tuning min samples leaf is: 0.4501139148598493\n",
      "INFO:root:Best r2 after tuning max features is: 0.6286659983253435\n",
      "INFO:root:Final Model Accuracy 0.6286659983253435\n",
      "INFO:root:Tuned parameters: {'max_depth': 17, 'n_estimators': 600, 'min_samples_split': 2, 'min_samples_leaf': 1, 'max_features': 1}\n",
      "INFO:root:Random Forest Feature Importance [0.         0.08451227 0.23533226 0.29779051 0.30836604 0.07399893]\n"
     ]
    }
   ],
   "source": [
    "go_for_it_dummies = fourth_down[\n",
    "    ~fourth_down[\"play_type\"].isin(\n",
    "        [\n",
    "            \"Field Goal Good\",\n",
    "            \"Missed Field Goal Return Touchdown\",\n",
    "            \"Missed Field Goal Return\",\n",
    "            \"Blocked Field Goal\",\n",
    "            \"Field Goal Missed\",\n",
    "            \"Blocked Field Goal Touchdown\",\n",
    "            \"Punt\",\n",
    "            \"Blocked Punt\",\n",
    "            \"Punt Return Touchdown\",\n",
    "            \"Blocked Punt Touchdown\",\n",
    "            \"Penalty\",\n",
    "            \"Timeout\",\n",
    "            \"Kickoff Return (Offense)\",\n",
    "            \"Kickoff Return Touchdown\",\n",
    "        ]\n",
    "    )\n",
    "]\n",
    "\n",
    "\n",
    "predictors = go_for_it_dummies.columns.drop(\n",
    "    [\"xPa\", \"play_type\"]\n",
    ")  # predictor variables used: all variables besides the target variable\n",
    "target = go_for_it_dummies[\"xPa\"].values  # target variable\n",
    "\n",
    "\n",
    "# splits the subset into a training set to fit the models on and a testing set to test the models on for their accuracy\n",
    "(\n",
    "    go_for_it_train_data,\n",
    "    go_for_it_test_data,\n",
    "    go_for_it_train_sln,\n",
    "    go_for_it_test_sln,\n",
    ") = train_test_split(\n",
    "    go_for_it_dummies[predictors], target, test_size=0.2, random_state=0\n",
    ")\n",
    "\n",
    "go_for_it_params = rf_regress_params_tuner(\n",
    "    go_for_it_train_data,\n",
    "    go_for_it_test_data,\n",
    "    go_for_it_train_sln,\n",
    "    go_for_it_test_sln,\n",
    "    field_goals_dummies,\n",
    ")"
   ]
  },
  {
   "cell_type": "code",
   "execution_count": null,
   "metadata": {},
   "outputs": [
    {
     "name": "stderr",
     "output_type": "stream",
     "text": [
      "/tmp/ipykernel_15376/2883989057.py:16: SettingWithCopyWarning: \n",
      "A value is trying to be set on a copy of a slice from a DataFrame.\n",
      "Try using .loc[row_indexer,col_indexer] = value instead\n",
      "\n",
      "See the caveats in the documentation: https://pandas.pydata.org/pandas-docs/stable/user_guide/indexing.html#returning-a-view-versus-a-copy\n",
      "  fourth_down[\"field_goal_xPa\"] = predictions\n"
     ]
    },
    {
     "data": {
      "text/html": [
       "<div>\n",
       "<style scoped>\n",
       "    .dataframe tbody tr th:only-of-type {\n",
       "        vertical-align: middle;\n",
       "    }\n",
       "\n",
       "    .dataframe tbody tr th {\n",
       "        vertical-align: top;\n",
       "    }\n",
       "\n",
       "    .dataframe thead th {\n",
       "        text-align: right;\n",
       "    }\n",
       "</style>\n",
       "<table border=\"1\" class=\"dataframe\">\n",
       "  <thead>\n",
       "    <tr style=\"text-align: right;\">\n",
       "      <th></th>\n",
       "      <th>play_type</th>\n",
       "      <th>down</th>\n",
       "      <th>distance</th>\n",
       "      <th>soccer_time</th>\n",
       "      <th>yard_line</th>\n",
       "      <th>score_differential</th>\n",
       "      <th>first_down_prob</th>\n",
       "      <th>xPa</th>\n",
       "      <th>field_goal_xPa</th>\n",
       "    </tr>\n",
       "  </thead>\n",
       "  <tbody>\n",
       "    <tr>\n",
       "      <th>10</th>\n",
       "      <td>Punt</td>\n",
       "      <td>4</td>\n",
       "      <td>3</td>\n",
       "      <td>2</td>\n",
       "      <td>53</td>\n",
       "      <td>0</td>\n",
       "      <td>0.406198</td>\n",
       "      <td>0.0</td>\n",
       "      <td>0.340000</td>\n",
       "    </tr>\n",
       "    <tr>\n",
       "      <th>33</th>\n",
       "      <td>Punt</td>\n",
       "      <td>4</td>\n",
       "      <td>6</td>\n",
       "      <td>9</td>\n",
       "      <td>28</td>\n",
       "      <td>7</td>\n",
       "      <td>0.342199</td>\n",
       "      <td>0.0</td>\n",
       "      <td>0.000000</td>\n",
       "    </tr>\n",
       "    <tr>\n",
       "      <th>64</th>\n",
       "      <td>Field Goal Missed</td>\n",
       "      <td>4</td>\n",
       "      <td>4</td>\n",
       "      <td>10</td>\n",
       "      <td>68</td>\n",
       "      <td>7</td>\n",
       "      <td>0.353091</td>\n",
       "      <td>0.0</td>\n",
       "      <td>0.331058</td>\n",
       "    </tr>\n",
       "    <tr>\n",
       "      <th>105</th>\n",
       "      <td>Punt</td>\n",
       "      <td>4</td>\n",
       "      <td>7</td>\n",
       "      <td>3</td>\n",
       "      <td>22</td>\n",
       "      <td>7</td>\n",
       "      <td>0.314996</td>\n",
       "      <td>0.0</td>\n",
       "      <td>0.040000</td>\n",
       "    </tr>\n",
       "    <tr>\n",
       "      <th>116</th>\n",
       "      <td>Punt</td>\n",
       "      <td>4</td>\n",
       "      <td>5</td>\n",
       "      <td>12</td>\n",
       "      <td>42</td>\n",
       "      <td>7</td>\n",
       "      <td>0.355285</td>\n",
       "      <td>0.0</td>\n",
       "      <td>0.160000</td>\n",
       "    </tr>\n",
       "  </tbody>\n",
       "</table>\n",
       "</div>"
      ],
      "text/plain": [
       "             play_type  down  distance  soccer_time  yard_line  \\\n",
       "10                Punt     4         3            2         53   \n",
       "33                Punt     4         6            9         28   \n",
       "64   Field Goal Missed     4         4           10         68   \n",
       "105               Punt     4         7            3         22   \n",
       "116               Punt     4         5           12         42   \n",
       "\n",
       "     score_differential  first_down_prob  xPa  field_goal_xPa  \n",
       "10                    0         0.406198  0.0        0.340000  \n",
       "33                    7         0.342199  0.0        0.000000  \n",
       "64                    7         0.353091  0.0        0.331058  \n",
       "105                   7         0.314996  0.0        0.040000  \n",
       "116                   7         0.355285  0.0        0.160000  "
      ]
     },
     "execution_count": 14,
     "metadata": {},
     "output_type": "execute_result"
    }
   ],
   "source": [
    "from sklearn.ensemble import RandomForestRegressor\n",
    "\n",
    "\n",
    "fg_forest = RandomForestRegressor(\n",
    "    max_depth=field_goals_params[\"max_depth\"],\n",
    "    n_estimators=field_goals_params[\"n_estimators\"],\n",
    "    min_samples_split=field_goals_params[\"min_samples_split\"],\n",
    "    min_samples_leaf=field_goals_params[\"min_samples_leaf\"],\n",
    "    max_features=field_goals_params[\"max_features\"],\n",
    "    random_state=0,\n",
    ")\n",
    "\n",
    "fg_forest.fit(fg_train_data, fg_train_sln)\n",
    "predictions = fg_forest.predict(prediction_set)\n",
    "\n",
    "fourth_down[\"field_goal_xPa\"] = predictions\n",
    "fourth_down.head()"
   ]
  },
  {
   "cell_type": "code",
   "execution_count": null,
   "metadata": {},
   "outputs": [
    {
     "name": "stderr",
     "output_type": "stream",
     "text": [
      "/tmp/ipykernel_15376/2068766211.py:13: SettingWithCopyWarning: \n",
      "A value is trying to be set on a copy of a slice from a DataFrame.\n",
      "Try using .loc[row_indexer,col_indexer] = value instead\n",
      "\n",
      "See the caveats in the documentation: https://pandas.pydata.org/pandas-docs/stable/user_guide/indexing.html#returning-a-view-versus-a-copy\n",
      "  fourth_down[\"punt_xPa\"] = predictions\n"
     ]
    }
   ],
   "source": [
    "punt_forest = RandomForestRegressor(\n",
    "    max_depth=punts_params[\"max_depth\"],\n",
    "    n_estimators=punts_params[\"n_estimators\"],\n",
    "    min_samples_split=punts_params[\"min_samples_split\"],\n",
    "    min_samples_leaf=punts_params[\"min_samples_leaf\"],\n",
    "    max_features=punts_params[\"max_features\"],\n",
    "    random_state=0,\n",
    ")\n",
    "\n",
    "punt_forest.fit(punts_train_data, punts_train_sln)\n",
    "predictions = punt_forest.predict(prediction_set)\n",
    "\n",
    "fourth_down[\"punt_xPa\"] = predictions"
   ]
  },
  {
   "cell_type": "code",
   "execution_count": null,
   "metadata": {},
   "outputs": [
    {
     "name": "stderr",
     "output_type": "stream",
     "text": [
      "/tmp/ipykernel_15376/1588984049.py:13: SettingWithCopyWarning: \n",
      "A value is trying to be set on a copy of a slice from a DataFrame.\n",
      "Try using .loc[row_indexer,col_indexer] = value instead\n",
      "\n",
      "See the caveats in the documentation: https://pandas.pydata.org/pandas-docs/stable/user_guide/indexing.html#returning-a-view-versus-a-copy\n",
      "  fourth_down[\"go_for_it_xPa\"] = predictions\n"
     ]
    }
   ],
   "source": [
    "gfi_forest = RandomForestRegressor(\n",
    "    max_depth=go_for_it_params[\"max_depth\"],\n",
    "    n_estimators=go_for_it_params[\"n_estimators\"],\n",
    "    min_samples_split=go_for_it_params[\"min_samples_split\"],\n",
    "    min_samples_leaf=go_for_it_params[\"min_samples_leaf\"],\n",
    "    max_features=go_for_it_params[\"max_features\"],\n",
    "    random_state=0,\n",
    ")\n",
    "\n",
    "gfi_forest.fit(go_for_it_train_data, go_for_it_train_sln)\n",
    "predictions = gfi_forest.predict(prediction_set)\n",
    "\n",
    "fourth_down[\"go_for_it_xPa\"] = predictions"
   ]
  },
  {
   "cell_type": "code",
   "execution_count": null,
   "metadata": {},
   "outputs": [
    {
     "data": {
      "text/html": [
       "<div>\n",
       "<style scoped>\n",
       "    .dataframe tbody tr th:only-of-type {\n",
       "        vertical-align: middle;\n",
       "    }\n",
       "\n",
       "    .dataframe tbody tr th {\n",
       "        vertical-align: top;\n",
       "    }\n",
       "\n",
       "    .dataframe thead th {\n",
       "        text-align: right;\n",
       "    }\n",
       "</style>\n",
       "<table border=\"1\" class=\"dataframe\">\n",
       "  <thead>\n",
       "    <tr style=\"text-align: right;\">\n",
       "      <th></th>\n",
       "      <th>play_type</th>\n",
       "      <th>down</th>\n",
       "      <th>distance</th>\n",
       "      <th>soccer_time</th>\n",
       "      <th>yard_line</th>\n",
       "      <th>score_differential</th>\n",
       "      <th>first_down_prob</th>\n",
       "      <th>xPa</th>\n",
       "      <th>field_goal_xPa</th>\n",
       "      <th>punt_xPa</th>\n",
       "      <th>go_for_it_xPa</th>\n",
       "    </tr>\n",
       "  </thead>\n",
       "  <tbody>\n",
       "    <tr>\n",
       "      <th>10</th>\n",
       "      <td>Punt</td>\n",
       "      <td>4</td>\n",
       "      <td>3</td>\n",
       "      <td>2</td>\n",
       "      <td>53</td>\n",
       "      <td>0</td>\n",
       "      <td>0.406198</td>\n",
       "      <td>0.0</td>\n",
       "      <td>0.340000</td>\n",
       "      <td>0.000000</td>\n",
       "      <td>0.000000</td>\n",
       "    </tr>\n",
       "    <tr>\n",
       "      <th>33</th>\n",
       "      <td>Punt</td>\n",
       "      <td>4</td>\n",
       "      <td>6</td>\n",
       "      <td>9</td>\n",
       "      <td>28</td>\n",
       "      <td>7</td>\n",
       "      <td>0.342199</td>\n",
       "      <td>0.0</td>\n",
       "      <td>0.000000</td>\n",
       "      <td>-0.030000</td>\n",
       "      <td>-0.146667</td>\n",
       "    </tr>\n",
       "    <tr>\n",
       "      <th>64</th>\n",
       "      <td>Field Goal Missed</td>\n",
       "      <td>4</td>\n",
       "      <td>4</td>\n",
       "      <td>10</td>\n",
       "      <td>68</td>\n",
       "      <td>7</td>\n",
       "      <td>0.353091</td>\n",
       "      <td>0.0</td>\n",
       "      <td>0.331058</td>\n",
       "      <td>-0.304286</td>\n",
       "      <td>-0.231852</td>\n",
       "    </tr>\n",
       "    <tr>\n",
       "      <th>105</th>\n",
       "      <td>Punt</td>\n",
       "      <td>4</td>\n",
       "      <td>7</td>\n",
       "      <td>3</td>\n",
       "      <td>22</td>\n",
       "      <td>7</td>\n",
       "      <td>0.314996</td>\n",
       "      <td>0.0</td>\n",
       "      <td>0.040000</td>\n",
       "      <td>-0.021429</td>\n",
       "      <td>0.136167</td>\n",
       "    </tr>\n",
       "    <tr>\n",
       "      <th>116</th>\n",
       "      <td>Punt</td>\n",
       "      <td>4</td>\n",
       "      <td>5</td>\n",
       "      <td>12</td>\n",
       "      <td>42</td>\n",
       "      <td>7</td>\n",
       "      <td>0.355285</td>\n",
       "      <td>0.0</td>\n",
       "      <td>0.160000</td>\n",
       "      <td>-0.329549</td>\n",
       "      <td>-0.646851</td>\n",
       "    </tr>\n",
       "  </tbody>\n",
       "</table>\n",
       "</div>"
      ],
      "text/plain": [
       "             play_type  down  distance  soccer_time  yard_line  \\\n",
       "10                Punt     4         3            2         53   \n",
       "33                Punt     4         6            9         28   \n",
       "64   Field Goal Missed     4         4           10         68   \n",
       "105               Punt     4         7            3         22   \n",
       "116               Punt     4         5           12         42   \n",
       "\n",
       "     score_differential  first_down_prob  xPa  field_goal_xPa  punt_xPa  \\\n",
       "10                    0         0.406198  0.0        0.340000  0.000000   \n",
       "33                    7         0.342199  0.0        0.000000 -0.030000   \n",
       "64                    7         0.353091  0.0        0.331058 -0.304286   \n",
       "105                   7         0.314996  0.0        0.040000 -0.021429   \n",
       "116                   7         0.355285  0.0        0.160000 -0.329549   \n",
       "\n",
       "     go_for_it_xPa  \n",
       "10        0.000000  \n",
       "33       -0.146667  \n",
       "64       -0.231852  \n",
       "105       0.136167  \n",
       "116      -0.646851  "
      ]
     },
     "execution_count": 17,
     "metadata": {},
     "output_type": "execute_result"
    }
   ],
   "source": [
    "fourth_down.head()"
   ]
  },
  {
   "cell_type": "code",
   "execution_count": null,
   "metadata": {},
   "outputs": [
    {
     "ename": "",
     "evalue": "",
     "output_type": "error",
     "traceback": [
      "\u001b[1;31mRunning cells with 'football' requires the ipykernel package.\n",
      "\u001b[1;31mRun the following command to install 'ipykernel' into the Python environment. \n",
      "\u001b[1;31mCommand: 'c:/Users/jordb/analytics/football/Scripts/python.exe -m pip install ipykernel -U --force-reinstall'"
     ]
    }
   ],
   "source": [
    "conditions = [\n",
    "    (fourth_down[\"field_goal_xPa\"] > fourth_down[\"punt_xPa\"])\n",
    "    & (fourth_down[\"field_goal_xPa\"] > fourth_down[\"go_for_it_xPa\"]),\n",
    "    (fourth_down[\"punt_xPa\"] > fourth_down[\"field_goal_xPa\"])\n",
    "    & (fourth_down[\"punt_xPa\"] > fourth_down[\"go_for_it_xPa\"]),\n",
    "    (fourth_down[\"go_for_it_xPa\"] > fourth_down[\"field_goal_xPa\"])\n",
    "    & (fourth_down[\"go_for_it_xPa\"] > fourth_down[\"punt_xPa\"]),\n",
    "]\n",
    "\n",
    "values = [\"Attempt FG\", \"Punt\", \"Go For It\"]\n",
    "\n",
    "fourth_down[\"suggested_decision\"] = np.select(conditions, values)\n",
    "\n",
    "fourth_down.to_csv(\"fourth_down_no_categories_results.csv\", index=False)"
   ]
  },
  {
   "cell_type": "code",
   "execution_count": null,
   "metadata": {},
   "outputs": [
    {
     "ename": "",
     "evalue": "",
     "output_type": "error",
     "traceback": [
      "\u001b[1;31mRunning cells with 'football' requires the ipykernel package.\n",
      "\u001b[1;31mRun the following command to install 'ipykernel' into the Python environment. \n",
      "\u001b[1;31mCommand: 'c:/Users/jordb/analytics/football/Scripts/python.exe -m pip install ipykernel -U --force-reinstall'"
     ]
    }
   ],
   "source": []
  }
 ],
 "metadata": {
  "kernelspec": {
   "display_name": "test",
   "language": "python",
   "name": "python3"
  },
  "language_info": {
   "codemirror_mode": {
    "name": "ipython",
    "version": 3
   },
   "file_extension": ".py",
   "mimetype": "text/x-python",
   "name": "python",
   "nbconvert_exporter": "python",
   "pygments_lexer": "ipython3",
   "version": "3.11.4"
  },
  "orig_nbformat": 4
 },
 "nbformat": 4,
 "nbformat_minor": 2
}
