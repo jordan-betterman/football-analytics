{
 "cells": [
  {
   "cell_type": "code",
   "execution_count": 1,
   "metadata": {},
   "outputs": [],
   "source": [
    "import pandas as pd\n",
    "import numpy as np\n",
    "\n",
    "dataframe = pd.read_csv('big_ten_pbp.csv')\n",
    "\n",
    "dataframe[\"soccer_time\"] = dataframe['period'] * ( 16 - (dataframe['minutes'] + (dataframe['seconds']/60)).round(0)).astype(\"int32\")\n",
    "\n",
    "soccer_time = range(1,64, 3)\n",
    "intervals = []\n",
    "conditions = []\n",
    "\n",
    "for i in soccer_time:\n",
    "    if i > 60:\n",
    "        intervals.append(f\"{i}\")\n",
    "        conditions.append( (dataframe[\"soccer_time\"] == i) )\n",
    "    if i == 58:\n",
    "        intervals.append(f\"{i}-{i+2}\")\n",
    "        conditions.append( (dataframe[\"soccer_time\"] >= i) & (dataframe[\"soccer_time\"] <= (i+2)))\n",
    "    else:\n",
    "        intervals.append(f\"{i}-{i+3}\")\n",
    "        conditions.append( (dataframe[\"soccer_time\"] >= i) & (dataframe[\"soccer_time\"] <= (i+3)))\n",
    "\n",
    "\n",
    "\n",
    "dataframe[\"time_intervals\"] = np.select(conditions, intervals)\n",
    "dataframe[\"score_differential\"] = dataframe[\"offense_score\"] - dataframe[\"defense_score\"]\n",
    "big_ten = dataframe[dataframe[\"offense_conference\"] == \"Big Ten\"]"
   ]
  },
  {
   "cell_type": "code",
   "execution_count": 2,
   "metadata": {},
   "outputs": [
    {
     "data": {
      "text/plain": [
       "array(['Minnesota', 'Maryland', 'Purdue', 'Michigan State', 'Illinois',\n",
       "       'Iowa', 'Michigan', 'Nebraska', 'Northwestern', 'Wisconsin',\n",
       "       'Ohio State', 'Indiana', 'Rutgers', 'Penn State'], dtype=object)"
      ]
     },
     "execution_count": 2,
     "metadata": {},
     "output_type": "execute_result"
    }
   ],
   "source": [
    "big_ten['offense'].unique()"
   ]
  },
  {
   "cell_type": "code",
   "execution_count": 3,
   "metadata": {},
   "outputs": [
    {
     "name": "stderr",
     "output_type": "stream",
     "text": [
      "C:\\Users\\jordb\\AppData\\Local\\Temp\\ipykernel_16356\\457019886.py:10: SettingWithCopyWarning: \n",
      "A value is trying to be set on a copy of a slice from a DataFrame.\n",
      "Try using .loc[row_indexer,col_indexer] = value instead\n",
      "\n",
      "See the caveats in the documentation: https://pandas.pydata.org/pandas-docs/stable/user_guide/indexing.html#returning-a-view-versus-a-copy\n",
      "  big_ten[\"field_position_intervals\"] = np.select(conditions, intervals)\n"
     ]
    },
    {
     "data": {
      "text/plain": [
       "array(['31-35', '46-50', '51-55', '36-40', '21-25', '26-30', '41-45',\n",
       "       '61-65', '66-70', '71-75', '81-85', '86-90', '91-95', '96-100',\n",
       "       '16-20', '11-15', '0', '6-10', '56-60', '76-80', '1-5'],\n",
       "      dtype=object)"
      ]
     },
     "execution_count": 3,
     "metadata": {},
     "output_type": "execute_result"
    }
   ],
   "source": [
    "field_pos_range = range(1,100,5)\n",
    "\n",
    "intervals = []\n",
    "conditions = []\n",
    "\n",
    "for i in field_pos_range:\n",
    "    intervals.append(f\"{i}-{i+4}\")\n",
    "    conditions.append( (big_ten[\"yard_line\"] >= i) & (big_ten[\"yard_line\"] <= (i+4)))\n",
    "\n",
    "big_ten[\"field_position_intervals\"] = np.select(conditions, intervals)\n",
    "big_ten[\"field_position_intervals\"].unique()"
   ]
  },
  {
   "cell_type": "code",
   "execution_count": 4,
   "metadata": {},
   "outputs": [
    {
     "name": "stderr",
     "output_type": "stream",
     "text": [
      "C:\\Users\\jordb\\AppData\\Local\\Temp\\ipykernel_16356\\2360975690.py:16: SettingWithCopyWarning: \n",
      "A value is trying to be set on a copy of a slice from a DataFrame.\n",
      "Try using .loc[row_indexer,col_indexer] = value instead\n",
      "\n",
      "See the caveats in the documentation: https://pandas.pydata.org/pandas-docs/stable/user_guide/indexing.html#returning-a-view-versus-a-copy\n",
      "  big_ten[\"points_scored\"] = np.select(conditions, values)\n"
     ]
    },
    {
     "data": {
      "text/plain": [
       "array([ 0,  7,  3, -7,  2])"
      ]
     },
     "execution_count": 4,
     "metadata": {},
     "output_type": "execute_result"
    }
   ],
   "source": [
    "conditions = [\n",
    "    (big_ten[\"play_type\"] == \"Field Goal Missed\"),\n",
    "    (big_ten[\"play_type\"] == \"Field Goal Good\"),\n",
    "    (big_ten[\"play_type\"] == \"Passing Touchdown\") | (big_ten[\"play_type\"] == \"Rusing Touchdown\"),\n",
    "    (big_ten[\"play_type\"] == \"Interception Return Touchdown\") \n",
    "    | (big_ten[\"play_type\"] == \"Fumble Return Touchdown\") \n",
    "    | (big_ten[\"play_type\"] == \"Punt Return Touchdown\") \n",
    "    | (big_ten[\"play_type\"] == \"Blocked Punt Touchdown\")\n",
    "    | (big_ten[\"play_type\"] == \"Missed Field Goal Return Touchdown\")\n",
    "    | (big_ten[\"play_type\"] == \"Blocked Field Goal Touchdown\"),\n",
    "    (big_ten[\"play_type\"] == \"Safety\"),\n",
    "]\n",
    "\n",
    "values = [0, 3, 7, -7, 2]\n",
    "\n",
    "big_ten[\"points_scored\"] = np.select(conditions, values)\n",
    "\n",
    "big_ten = big_ten[(big_ten[\"down\"] > 0) ]\n",
    "big_ten = big_ten[(big_ten[\"distance\"] > 0)]\n",
    "big_ten = big_ten[(big_ten[\"time_intervals\"] != '0')]\n",
    "\n",
    "big_ten[['time_lower', 'time_upper']] = big_ten.time_intervals.str.split('-', expand=True).astype('int')\n",
    "big_ten[['field_position_lower', 'field_position_upper']] = big_ten.time_intervals.str.split('-', expand=True).astype('int')\n",
    "\n",
    "big_ten[\"points_scored\"].unique()"
   ]
  },
  {
   "cell_type": "code",
   "execution_count": 5,
   "metadata": {},
   "outputs": [
    {
     "data": {
      "text/plain": [
       "array([ 0.        ,  7.        ,  3.        ,  3.5       ,  4.66666667,\n",
       "        2.33333333, -1.4       ,  1.4       , -7.        ,  2.8       ,\n",
       "        2.        ,  0.875     ,  1.75      , -3.5       ,  1.16666667,\n",
       "        1.55555556, -1.27272727,  1.27272727,  0.75      ,  1.        ,\n",
       "        1.5       ,  5.25      ])"
      ]
     },
     "execution_count": 5,
     "metadata": {},
     "output_type": "execute_result"
    }
   ],
   "source": [
    "grouped = big_ten.groupby([\"down\", \"distance\", \"soccer_time\", \"yard_line\", \"score_differential\"])[\"points_scored\"].agg([\"sum\",\"count\",\"mean\",\"median\"]).reset_index()\n",
    "#grouped[['time_lower', 'time_upper']] = grouped.time_intervals.str.split('-', expand=True).astype('int')\n",
    "#grouped[['field_position_lower', 'field_position_upper']] = grouped.time_intervals.str.split('-', expand=True).astype('int')\n",
    "grouped['mean'].unique()"
   ]
  },
  {
   "cell_type": "code",
   "execution_count": 6,
   "metadata": {},
   "outputs": [],
   "source": [
    "# this cell is placing xP values in the right rows and then subtracting the points scored from the xp to get the xP added for the play.\n",
    "# I wanted to see the average difference between my xPa model compared to the College football data's version of it\n",
    "intervals = []\n",
    "conditions = []\n",
    "\n",
    "for i in range(len(grouped)):\n",
    "    intervals.append(grouped[\"mean\"][i])\n",
    "    conditions.append( (big_ten[\"down\"] == grouped[\"down\"][i]) \n",
    "                        & (big_ten[\"distance\"] == grouped['distance'][i]) \n",
    "                        & (big_ten['soccer_time'] == grouped['soccer_time'][i])\n",
    "                        & (big_ten['yard_line'] == grouped['yard_line'][i])\n",
    "                        #& (big_ten['time_upper'] <= grouped['time_upper'][i])\n",
    "                        #& (big_ten['field_position_lower'] >= grouped['field_position_lower'][i])\n",
    "                        #& (big_ten['field_position_upper'] <= grouped['field_position_upper'][i])\n",
    "                        & (big_ten['score_differential'] == grouped['score_differential'][i]) )\n",
    "\n",
    "big_ten[\"xP\"] = np.select(conditions, intervals)\n",
    "big_ten['xPa'] = big_ten[\"points_scored\"] - big_ten['xP']\n",
    "\n",
    "epa_diff = big_ten['xPa'] - big_ten['ppa']\n",
    "epa_diff.mean()"
   ]
  },
  {
   "cell_type": "code",
   "execution_count": null,
   "metadata": {},
   "outputs": [],
   "source": [
    "# This cell is pulling and calculating the probability a first down is acheived by down and distance\n",
    "# This will be used in the model making process to gauge how probable it is to make a first down\n",
    "\n",
    "big_ten['got_first_down'] = big_ten['yards_gained'] >= big_ten[\"distance\"]\n",
    "\n",
    "first_down_prob = big_ten.groupby(['down', 'distance'])['got_first_down'].agg(['sum', 'count']).reset_index()\n",
    "first_down_prob['first_down_prob'] = first_down_prob['sum']/first_down_prob['count']\n",
    "\n",
    "intervals = []\n",
    "conditions = []\n",
    "\n",
    "for i in range(len(first_down_prob)):\n",
    "    intervals.append(first_down_prob['first_down_prob'][i])\n",
    "    conditions.append( (big_ten[\"down\"] == first_down_prob[\"down\"][i]) & (big_ten[\"distance\"] == first_down_prob['distance'][i]))\n",
    "\n",
    "big_ten[\"first_down_prob\"] = np.select(conditions, intervals)\n"
   ]
  },
  {
   "cell_type": "code",
   "execution_count": null,
   "metadata": {},
   "outputs": [],
   "source": [
    "# Now let's create the models for the usual 4th down decision making. I will make 3 different models (Field Goals, Go For It, and Punting)\n",
    "\n",
    "subset = big_ten[['play_type', 'down', 'distance', 'soccer_time', 'yard_line', 'first_down_prob', 'xPa']]\n",
    "                    #'time_intervals', 'field_position_intervals', 'score_differential', 'first_down_prob', 'xPa']]\n",
    "subset = subset[~subset['play_type'].isin(['Kickoff', 'Uncategorized'])]\n",
    "\n",
    "fourth_down_dummies = subset[subset['down'] == 4]\n",
    "#fourth_down_dummies = pd.get_dummies(fourth_down, columns=['time_intervals', \"field_position_intervals\"])\n",
    "predictiors = fourth_down_dummies.columns.drop(['xPa', 'play_type'])\n",
    "prediction_set = fourth_down_dummies[predictiors]"
   ]
  },
  {
   "cell_type": "markdown",
   "metadata": {},
   "source": [
    "The models will be split up by the 3 decisions that could be made. One model for Field Goals, one for punting, and one for going for it.\n",
    "I will then use each model to predict the xPa value for each 4th down situation for each deicison."
   ]
  },
  {
   "cell_type": "code",
   "execution_count": null,
   "metadata": {},
   "outputs": [
    {
     "ename": "ModuleNotFoundError",
     "evalue": "No module named 'utils'",
     "output_type": "error",
     "traceback": [
      "\u001b[1;31m---------------------------------------------------------------------------\u001b[0m",
      "\u001b[1;31mModuleNotFoundError\u001b[0m                       Traceback (most recent call last)",
      "Cell \u001b[1;32mIn[11], line 2\u001b[0m\n\u001b[0;32m      1\u001b[0m \u001b[39mfrom\u001b[39;00m \u001b[39msklearn\u001b[39;00m\u001b[39m.\u001b[39;00m\u001b[39mmodel_selection\u001b[39;00m \u001b[39mimport\u001b[39;00m train_test_split\n\u001b[1;32m----> 2\u001b[0m \u001b[39mfrom\u001b[39;00m \u001b[39mutils\u001b[39;00m\u001b[39m.\u001b[39;00m\u001b[39mutils\u001b[39;00m \u001b[39mimport\u001b[39;00m rf_regress_params_tuner\n\u001b[0;32m      5\u001b[0m field_goals_dummies \u001b[39m=\u001b[39m fourth_down_dummies[fourth_down_dummies[\u001b[39m\"\u001b[39m\u001b[39mplay_type\u001b[39m\u001b[39m\"\u001b[39m]\u001b[39m.\u001b[39misin([\u001b[39m'\u001b[39m\u001b[39mField Goal Good\u001b[39m\u001b[39m'\u001b[39m, \u001b[39m'\u001b[39m\u001b[39mMissed Field Goal Return Touchdown\u001b[39m\u001b[39m'\u001b[39m, \u001b[39m'\u001b[39m\u001b[39mMissed Field Goal Return\u001b[39m\u001b[39m'\u001b[39m, \u001b[39m'\u001b[39m\u001b[39mBlocked Field Goal\u001b[39m\u001b[39m'\u001b[39m, \u001b[39m'\u001b[39m\u001b[39mField Goal Missed\u001b[39m\u001b[39m'\u001b[39m, \u001b[39m'\u001b[39m\u001b[39mBlocked Field Goal Touchdown\u001b[39m\u001b[39m'\u001b[39m])]\n\u001b[0;32m      7\u001b[0m predictors \u001b[39m=\u001b[39m field_goals_dummies\u001b[39m.\u001b[39mcolumns\u001b[39m.\u001b[39mdrop([\u001b[39m'\u001b[39m\u001b[39mxPa\u001b[39m\u001b[39m'\u001b[39m, \u001b[39m'\u001b[39m\u001b[39mplay_type\u001b[39m\u001b[39m'\u001b[39m]) \u001b[39m#predictor variables used: all variables besides the target variable\u001b[39;00m\n",
      "\u001b[1;31mModuleNotFoundError\u001b[0m: No module named 'utils'"
     ]
    }
   ],
   "source": [
    "from sklearn.model_selection import train_test_split\n",
    "from utils.utils import rf_regress_params_tuner\n",
    "\n",
    "\n",
    "field_goals_dummies = fourth_down_dummies[fourth_down_dummies[\"play_type\"].isin(['Field Goal Good', 'Missed Field Goal Return Touchdown', 'Missed Field Goal Return', 'Blocked Field Goal', 'Field Goal Missed', 'Blocked Field Goal Touchdown'])]\n",
    "\n",
    "predictors = field_goals_dummies.columns.drop(['xPa', 'play_type']) #predictor variables used: all variables besides the target variable\n",
    "target = field_goals_dummies['xPa'].values #target variable\n",
    "\n",
    "\n",
    "#splits the subset into a training set to fit the models on and a testing set to test the models on for their accuracy\n",
    "fg_train_data, fg_test_data, fg_train_sln, fg_test_sln = train_test_split(field_goals_dummies[predictors], target, test_size = 0.2, random_state=0)\n",
    "\n",
    "field_goals_params = rf_regress_params_tuner(fg_train_data, fg_test_data, fg_train_sln, fg_test_sln, field_goals_dummies)\n",
    "print(field_goals_params)"
   ]
  },
  {
   "cell_type": "code",
   "execution_count": null,
   "metadata": {},
   "outputs": [
    {
     "ename": "",
     "evalue": "",
     "output_type": "error",
     "traceback": [
      "\u001b[1;31mRunning cells with 'football' requires the ipykernel package.\n",
      "\u001b[1;31mRun the following command to install 'ipykernel' into the Python environment. \n",
      "\u001b[1;31mCommand: 'c:/Users/jordb/analytics/football/Scripts/python.exe -m pip install ipykernel -U --force-reinstall'"
     ]
    }
   ],
   "source": [
    "punts_dummies = fourth_down_dummies[fourth_down_dummies[\"play_type\"].isin(['Punt', 'Blocked Punt', 'Punt Return Touchdown', 'Blocked Punt Touchdown'])]\n",
    "\n",
    "\n",
    "predictors = punts_dummies.columns.drop(['xPa', '_play_type']) #predictor variables used: all variables besides the target variable\n",
    "target = punts_dummies['xPa'].values #target variable\n",
    "\n",
    "\n",
    "#splits the subset into a training set to fit the models on and a testing set to test the models on for their accuracy\n",
    "punts_train_data, punts_test_data, punts_train_sln, punts_test_sln = train_test_split(punts_dummies[predictors], target, test_size = 0.2, random_state=0)\n",
    "\n",
    "punts_params = rf_regress_params_tuner(punts_train_data, punts_test_data, punts_train_sln, punts_test_sln, punts_dummies)"
   ]
  },
  {
   "cell_type": "code",
   "execution_count": null,
   "metadata": {},
   "outputs": [
    {
     "ename": "",
     "evalue": "",
     "output_type": "error",
     "traceback": [
      "\u001b[1;31mRunning cells with 'football' requires the ipykernel package.\n",
      "\u001b[1;31mRun the following command to install 'ipykernel' into the Python environment. \n",
      "\u001b[1;31mCommand: 'c:/Users/jordb/analytics/football/Scripts/python.exe -m pip install ipykernel -U --force-reinstall'"
     ]
    }
   ],
   "source": [
    "go_for_it_dummies = fourth_down_dummies[~fourth_down_dummies[\"play_type\"].isin(['Field Goal Good', 'Missed Field Goal Return Touchdown', 'Missed Field Goal Return', 'Blocked Field Goal', 'Field Goal Missed', 'Blocked Field Goal Touchdown',\n",
    "                                                            'Punt', 'Blocked Punt', 'Punt Return Touchdown', 'Blocked Punt Touchdown', 'Penalty', 'Timeout',  'Kickoff Return (Offense)', 'Kickoff Return Touchdown'])]\n",
    "\n",
    "\n",
    "predictors = go_for_it_dummies.columns.drop(['xPa', 'play_type']) #predictor variables used: all variables besides the target variable\n",
    "target = go_for_it_dummies['xPa'].values #target variable\n",
    "\n",
    "\n",
    "#splits the subset into a training set to fit the models on and a testing set to test the models on for their accuracy\n",
    "go_for_it_train_data, go_for_it_test_data, go_for_it_train_sln, go_for_it_test_sln = train_test_split(go_for_it_dummies[predictors], target, test_size = 0.2, random_state=0)\n",
    "\n",
    "go_for_it_params = rf_regress_params_tuner(go_for_it_train_data, go_for_it_test_data, go_for_it_train_sln, go_for_it_test_sln, field_goals_dummies)"
   ]
  },
  {
   "cell_type": "code",
   "execution_count": null,
   "metadata": {},
   "outputs": [
    {
     "ename": "",
     "evalue": "",
     "output_type": "error",
     "traceback": [
      "\u001b[1;31mRunning cells with 'football' requires the ipykernel package.\n",
      "\u001b[1;31mRun the following command to install 'ipykernel' into the Python environment. \n",
      "\u001b[1;31mCommand: 'c:/Users/jordb/analytics/football/Scripts/python.exe -m pip install ipykernel -U --force-reinstall'"
     ]
    }
   ],
   "source": [
    "from sklearn.ensemble import RandomForestRegressor\n",
    "\n",
    "\n",
    "fg_forest = RandomForestRegressor(\n",
    "        max_depth=field_goals_params['max_depth'],\n",
    "        n_estimators=field_goals_params['n_estimators'],\n",
    "        min_samples_split=field_goals_params['min_samples_split'],\n",
    "        min_samples_leaf=field_goals_params['min_samples_leaf'],\n",
    "        max_features=field_goals_params['max_features'],\n",
    "        random_state=0,\n",
    "    )\n",
    "\n",
    "fg_forest.fit(fg_train_data, fg_train_sln)\n",
    "predictions = fg_forest.predict(prediction_set)\n",
    "\n",
    "fourth_down[\"field_goal_xPa\"] = predictions\n",
    "fourth_down.head()"
   ]
  },
  {
   "cell_type": "code",
   "execution_count": null,
   "metadata": {},
   "outputs": [
    {
     "ename": "",
     "evalue": "",
     "output_type": "error",
     "traceback": [
      "\u001b[1;31mRunning cells with 'football' requires the ipykernel package.\n",
      "\u001b[1;31mRun the following command to install 'ipykernel' into the Python environment. \n",
      "\u001b[1;31mCommand: 'c:/Users/jordb/analytics/football/Scripts/python.exe -m pip install ipykernel -U --force-reinstall'"
     ]
    }
   ],
   "source": [
    "punt_forest = RandomForestRegressor(\n",
    "        max_depth=punts_params['max_depth'],\n",
    "        n_estimators=punts_params['n_estimators'],\n",
    "        min_samples_split=punts_params['min_samples_split'],\n",
    "        min_samples_leaf=punts_params['min_samples_leaf'],\n",
    "        max_features=punts_params['max_features'],\n",
    "        random_state=0,\n",
    "    )\n",
    "\n",
    "punt_forest.fit(punts_train_data, punts_train_sln)\n",
    "predictions = punt_forest.predict(prediction_set)\n",
    "\n",
    "fourth_down[\"punt_xPa\"] = predictions"
   ]
  },
  {
   "cell_type": "code",
   "execution_count": null,
   "metadata": {},
   "outputs": [
    {
     "ename": "",
     "evalue": "",
     "output_type": "error",
     "traceback": [
      "\u001b[1;31mRunning cells with 'football' requires the ipykernel package.\n",
      "\u001b[1;31mRun the following command to install 'ipykernel' into the Python environment. \n",
      "\u001b[1;31mCommand: 'c:/Users/jordb/analytics/football/Scripts/python.exe -m pip install ipykernel -U --force-reinstall'"
     ]
    }
   ],
   "source": [
    "gfi_forest = RandomForestRegressor(\n",
    "        max_depth=go_for_it_params['max_depth'],\n",
    "        n_estimators=go_for_it_params['n_estimators'],\n",
    "        min_samples_split=go_for_it_params['min_samples_split'],\n",
    "        min_samples_leaf=go_for_it_params['min_samples_leaf'],\n",
    "        max_features=go_for_it_params['max_features'],\n",
    "        random_state=0,\n",
    "    )\n",
    "\n",
    "gfi_forest.fit(go_for_it_train_data, go_for_it_train_sln)\n",
    "predictions = gfi_forest.predict(prediction_set)\n",
    "\n",
    "fourth_down[\"go_for_it_xPa\"] = predictions"
   ]
  },
  {
   "cell_type": "code",
   "execution_count": null,
   "metadata": {},
   "outputs": [
    {
     "ename": "",
     "evalue": "",
     "output_type": "error",
     "traceback": [
      "\u001b[1;31mRunning cells with 'football' requires the ipykernel package.\n",
      "\u001b[1;31mRun the following command to install 'ipykernel' into the Python environment. \n",
      "\u001b[1;31mCommand: 'c:/Users/jordb/analytics/football/Scripts/python.exe -m pip install ipykernel -U --force-reinstall'"
     ]
    }
   ],
   "source": [
    "fourth_down.head()"
   ]
  },
  {
   "cell_type": "code",
   "execution_count": null,
   "metadata": {},
   "outputs": [
    {
     "ename": "",
     "evalue": "",
     "output_type": "error",
     "traceback": [
      "\u001b[1;31mRunning cells with 'football' requires the ipykernel package.\n",
      "\u001b[1;31mRun the following command to install 'ipykernel' into the Python environment. \n",
      "\u001b[1;31mCommand: 'c:/Users/jordb/analytics/football/Scripts/python.exe -m pip install ipykernel -U --force-reinstall'"
     ]
    }
   ],
   "source": [
    "conditions = [\n",
    "    (fourth_down['field_goal_xPa'] > fourth_down['punt_xPa']) & (fourth_down['field_goal_xPa'] > fourth_down['go_for_it_xPa']),\n",
    "    (fourth_down['punt_xPa'] > fourth_down['field_goal_xPa']) & (fourth_down['punt_xPa'] > fourth_down['go_for_it_xPa']),\n",
    "    (fourth_down['go_for_it_xPa'] > fourth_down['field_goal_xPa']) & (fourth_down['go_for_it_xPa'] > fourth_down['punt_xPa'])\n",
    "]\n",
    "\n",
    "values = ['Attempt FG', 'Punt', 'Go For It']\n",
    "\n",
    "fourth_down[\"suggested_decision\"] = np.select(conditions, values)\n",
    "\n",
    "fourth_down.to_excel('fourth_down_decision_making.xlsx', index=False)\n"
   ]
  },
  {
   "cell_type": "code",
   "execution_count": null,
   "metadata": {},
   "outputs": [
    {
     "ename": "",
     "evalue": "",
     "output_type": "error",
     "traceback": [
      "\u001b[1;31mRunning cells with 'football' requires the ipykernel package.\n",
      "\u001b[1;31mRun the following command to install 'ipykernel' into the Python environment. \n",
      "\u001b[1;31mCommand: 'c:/Users/jordb/analytics/football/Scripts/python.exe -m pip install ipykernel -U --force-reinstall'"
     ]
    }
   ],
   "source": []
  }
 ],
 "metadata": {
  "kernelspec": {
   "display_name": "test",
   "language": "python",
   "name": "python3"
  },
  "language_info": {
   "codemirror_mode": {
    "name": "ipython",
    "version": 3
   },
   "file_extension": ".py",
   "mimetype": "text/x-python",
   "name": "python",
   "nbconvert_exporter": "python",
   "pygments_lexer": "ipython3",
   "version": "3.10.11"
  },
  "orig_nbformat": 4
 },
 "nbformat": 4,
 "nbformat_minor": 2
}
