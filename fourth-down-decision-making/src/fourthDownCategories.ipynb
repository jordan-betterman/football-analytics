{
 "cells": [
  {
   "cell_type": "code",
   "execution_count": 15,
   "metadata": {},
   "outputs": [],
   "source": [
    "import pandas as pd\n",
    "import numpy as np\n",
    "\n",
    "dataframe = pd.read_csv(\"big_ten_pbp.csv\")\n",
    "\n",
    "dataframe[\"soccer_time\"] = dataframe[\"period\"] * (\n",
    "    16 - (dataframe[\"minutes\"] + (dataframe[\"seconds\"] / 60)).round(0)\n",
    ").astype(\"int32\")\n",
    "\n",
    "soccer_time = range(1, 64, 3)\n",
    "intervals = []\n",
    "conditions = []\n",
    "\n",
    "for i in soccer_time:\n",
    "    if i > 60:\n",
    "        intervals.append(f\"{i}\")\n",
    "        conditions.append((dataframe[\"soccer_time\"] == i))\n",
    "    if i == 58:\n",
    "        intervals.append(f\"{i}-{i+2}\")\n",
    "        conditions.append(\n",
    "            (dataframe[\"soccer_time\"] >= i) & (dataframe[\"soccer_time\"] <= (i + 2))\n",
    "        )\n",
    "    else:\n",
    "        intervals.append(f\"{i}-{i+3}\")\n",
    "        conditions.append(\n",
    "            (dataframe[\"soccer_time\"] >= i) & (dataframe[\"soccer_time\"] <= (i + 3))\n",
    "        )\n",
    "\n",
    "\n",
    "dataframe[\"time_intervals\"] = np.select(conditions, intervals)\n",
    "dataframe[\"score_differential\"] = (\n",
    "    dataframe[\"offense_score\"] - dataframe[\"defense_score\"]\n",
    ")\n",
    "big_ten = dataframe[dataframe[\"offense_conference\"] == \"Big Ten\"]"
   ]
  },
  {
   "cell_type": "code",
   "execution_count": 16,
   "metadata": {},
   "outputs": [
    {
     "name": "stderr",
     "output_type": "stream",
     "text": [
      "/tmp/ipykernel_511/457019886.py:10: SettingWithCopyWarning: \n",
      "A value is trying to be set on a copy of a slice from a DataFrame.\n",
      "Try using .loc[row_indexer,col_indexer] = value instead\n",
      "\n",
      "See the caveats in the documentation: https://pandas.pydata.org/pandas-docs/stable/user_guide/indexing.html#returning-a-view-versus-a-copy\n",
      "  big_ten[\"field_position_intervals\"] = np.select(conditions, intervals)\n"
     ]
    },
    {
     "data": {
      "text/plain": [
       "array(['31-35', '46-50', '51-55', '36-40', '21-25', '26-30', '41-45',\n",
       "       '61-65', '66-70', '71-75', '81-85', '86-90', '91-95', '96-100',\n",
       "       '16-20', '11-15', '0', '6-10', '56-60', '76-80', '1-5'],\n",
       "      dtype=object)"
      ]
     },
     "execution_count": 16,
     "metadata": {},
     "output_type": "execute_result"
    }
   ],
   "source": [
    "field_pos_range = range(1, 100, 5)\n",
    "\n",
    "intervals = []\n",
    "conditions = []\n",
    "\n",
    "for i in field_pos_range:\n",
    "    intervals.append(f\"{i}-{i+4}\")\n",
    "    conditions.append((big_ten[\"yard_line\"] >= i) & (big_ten[\"yard_line\"] <= (i + 4)))\n",
    "\n",
    "big_ten[\"field_position_intervals\"] = np.select(conditions, intervals)\n",
    "big_ten[\"field_position_intervals\"].unique()"
   ]
  },
  {
   "cell_type": "code",
   "execution_count": 17,
   "metadata": {},
   "outputs": [
    {
     "name": "stderr",
     "output_type": "stream",
     "text": [
      "/tmp/ipykernel_511/3856597351.py:16: SettingWithCopyWarning: \n",
      "A value is trying to be set on a copy of a slice from a DataFrame.\n",
      "Try using .loc[row_indexer,col_indexer] = value instead\n",
      "\n",
      "See the caveats in the documentation: https://pandas.pydata.org/pandas-docs/stable/user_guide/indexing.html#returning-a-view-versus-a-copy\n",
      "  big_ten[\"points_scored\"] = np.select(conditions, values)\n"
     ]
    },
    {
     "name": "stdout",
     "output_type": "stream",
     "text": [
      "['31-35' '46-50' '51-55' '36-40' '21-25' '26-30' '41-45' '61-65' '66-70'\n",
      " '71-75' '81-85' '86-90' '91-95' '96-100' '16-20' '11-15' '6-10' '56-60'\n",
      " '76-80' '1-5']\n"
     ]
    },
    {
     "data": {
      "text/plain": [
       "array([ 0,  7,  3, -7,  2])"
      ]
     },
     "execution_count": 17,
     "metadata": {},
     "output_type": "execute_result"
    }
   ],
   "source": [
    "conditions = [\n",
    "    (big_ten[\"play_type\"] == \"Field Goal Missed\"),\n",
    "    (big_ten[\"play_type\"] == \"Field Goal Good\"),\n",
    "    (big_ten[\"play_type\"] == \"Passing Touchdown\")\n",
    "    | (big_ten[\"play_type\"] == \"Rusing Touchdown\"),\n",
    "    (big_ten[\"play_type\"] == \"Interception Return Touchdown\")\n",
    "    | (big_ten[\"play_type\"] == \"Fumble Return Touchdown\")\n",
    "    | (big_ten[\"play_type\"] == \"Punt Return Touchdown\")\n",
    "    | (big_ten[\"play_type\"] == \"Blocked Punt Touchdown\")\n",
    "    | (big_ten[\"play_type\"] == \"Missed Field Goal Return Touchdown\")\n",
    "    | (big_ten[\"play_type\"] == \"Blocked Field Goal Touchdown\"),\n",
    "    (big_ten[\"play_type\"] == \"Safety\"),\n",
    "]\n",
    "\n",
    "values = [0, 3, 7, -7, 2]\n",
    "\n",
    "big_ten[\"points_scored\"] = np.select(conditions, values)\n",
    "\n",
    "big_ten = big_ten[(big_ten[\"down\"] > 0)]\n",
    "big_ten = big_ten[(big_ten[\"distance\"] > 0)]\n",
    "big_ten = big_ten[(big_ten[\"time_intervals\"] != \"0\")]\n",
    "big_ten = big_ten[(big_ten[\"field_position_intervals\"] != \"0\")]\n",
    "print(big_ten[\"field_position_intervals\"].unique())\n",
    "\n",
    "big_ten[[\"time_lower\", \"time_upper\"]] = big_ten.time_intervals.str.split(\n",
    "    \"-\", expand=True\n",
    ").astype(\"int\")\n",
    "big_ten[[\"field_position_lower\", \"field_position_upper\"]] = (\n",
    "    big_ten.field_position_intervals.str.split(\"-\", expand=True).astype(\"int\")\n",
    ")\n",
    "\n",
    "big_ten[\"points_scored\"].unique()"
   ]
  },
  {
   "cell_type": "code",
   "execution_count": 18,
   "metadata": {},
   "outputs": [
    {
     "data": {
      "text/plain": [
       "49758"
      ]
     },
     "execution_count": 18,
     "metadata": {},
     "output_type": "execute_result"
    }
   ],
   "source": [
    "grouped = (\n",
    "    big_ten.groupby(\n",
    "        [\n",
    "            \"down\",\n",
    "            \"distance\",\n",
    "            \"time_intervals\",\n",
    "            \"field_position_intervals\",\n",
    "            \"score_differential\",\n",
    "        ]\n",
    "    )[\"points_scored\"]\n",
    "    .agg([\"sum\", \"count\", \"mean\", \"median\"])\n",
    "    .reset_index()\n",
    ")\n",
    "grouped[\"mean\"].count()"
   ]
  },
  {
   "cell_type": "code",
   "execution_count": 19,
   "metadata": {},
   "outputs": [
    {
     "name": "stdout",
     "output_type": "stream",
     "text": [
      "0 completed\n",
      "10000 completed\n",
      "20000 completed\n",
      "30000 completed\n",
      "40000 completed\n"
     ]
    },
    {
     "data": {
      "text/plain": [
       "-0.1566256556736183"
      ]
     },
     "execution_count": 19,
     "metadata": {},
     "output_type": "execute_result"
    }
   ],
   "source": [
    "# this cell is placing xP values in the right rows and then subtracting the points scored from the xp to get the xP added for the play.\n",
    "# I wanted to see the average difference between my xPa model compared to the College football data's version of it\n",
    "intervals = []\n",
    "conditions = []\n",
    "i = 0\n",
    "for row in grouped.to_dict(\"records\"):\n",
    "    if i % 10000 == 0:\n",
    "        print(f\"{i} completed\")\n",
    "    intervals.append(row[\"mean\"])\n",
    "    conditions.append(\n",
    "        (big_ten[\"down\"] == row[\"down\"])\n",
    "        & (big_ten[\"distance\"] == row[\"distance\"])\n",
    "        & (big_ten[\"time_intervals\"] == row[\"time_intervals\"])\n",
    "        & (big_ten[\"field_position_intervals\"] == row[\"field_position_intervals\"])\n",
    "        & (big_ten[\"score_differential\"] == row[\"score_differential\"])\n",
    "    )\n",
    "    i += 1\n",
    "\n",
    "big_ten[\"xP\"] = np.select(conditions, intervals)\n",
    "big_ten[\"xPa\"] = big_ten[\"points_scored\"] - big_ten[\"xP\"]\n",
    "\n",
    "epa_diff = big_ten[\"xPa\"] - big_ten[\"ppa\"]\n",
    "epa_diff.mean()"
   ]
  },
  {
   "cell_type": "code",
   "execution_count": 20,
   "metadata": {},
   "outputs": [],
   "source": [
    "# This cell is pulling and calculating the probability a first down is acheived by down and distance\n",
    "# This will be used in the model making process to gauge how probable it is to make a first down\n",
    "\n",
    "big_ten[\"got_first_down\"] = big_ten[\"yards_gained\"] >= big_ten[\"distance\"]\n",
    "\n",
    "first_down_prob = (\n",
    "    big_ten.groupby([\"down\", \"distance\"])[\"got_first_down\"]\n",
    "    .agg([\"sum\", \"count\"])\n",
    "    .reset_index()\n",
    ")\n",
    "first_down_prob[\"first_down_prob\"] = first_down_prob[\"sum\"] / first_down_prob[\"count\"]\n",
    "\n",
    "intervals = []\n",
    "conditions = []\n",
    "\n",
    "for i in range(len(first_down_prob)):\n",
    "    intervals.append(first_down_prob[\"first_down_prob\"][i])\n",
    "    conditions.append(\n",
    "        (big_ten[\"down\"] == first_down_prob[\"down\"][i])\n",
    "        & (big_ten[\"distance\"] == first_down_prob[\"distance\"][i])\n",
    "    )\n",
    "\n",
    "big_ten[\"first_down_prob\"] = np.select(conditions, intervals)"
   ]
  },
  {
   "cell_type": "code",
   "execution_count": 21,
   "metadata": {},
   "outputs": [],
   "source": [
    "# Now let's create the models for the usual 4th down decision making. I will make 3 different models (Field Goals, Go For It, and Punting)\n",
    "\n",
    "subset = big_ten[\n",
    "    [\n",
    "        \"play_type\",\n",
    "        \"down\",\n",
    "        \"distance\",\n",
    "        \"time_intervals\",\n",
    "        \"field_position_intervals\",\n",
    "        \"score_differential\",\n",
    "        \"first_down_prob\",\n",
    "        \"xPa\",\n",
    "    ]\n",
    "]\n",
    "subset = subset[~subset[\"play_type\"].isin([\"Kickoff\", \"Uncategorized\"])]\n",
    "\n",
    "fourth_down = subset[subset[\"down\"] == 4]\n",
    "fourth_down_dummies = pd.get_dummies(\n",
    "    fourth_down, columns=[\"time_intervals\", \"field_position_intervals\"]\n",
    ")\n",
    "predictiors = fourth_down_dummies.columns.drop([\"xPa\", \"play_type\"])\n",
    "prediction_set = fourth_down_dummies[predictiors]"
   ]
  },
  {
   "cell_type": "markdown",
   "metadata": {},
   "source": [
    "The models will be split up by the 3 decisions that could be made. One model for Field Goals, one for punting, and one for going for it.\n",
    "I will then use each model to predict the xPa value for each 4th down situation for each deicison."
   ]
  },
  {
   "cell_type": "code",
   "execution_count": 22,
   "metadata": {},
   "outputs": [
    {
     "name": "stderr",
     "output_type": "stream",
     "text": [
      "INFO:root:Best r2 after tuning max depth is: 0.4691997349066829\n",
      "INFO:root:Best r2 after tuning n_estimators is: 0.4803799724824406\n",
      "INFO:root:Best r2 after tuning min samples split is: 0.4803799724824406\n",
      "INFO:root:Best r2 after tuning min samples leaf is: 0.4803799724824406\n",
      "INFO:root:Best r2 after tuning max features is: 0.7021652995984351\n",
      "INFO:root:Final Model Accuracy 0.7021652995984351\n",
      "INFO:root:Tuned parameters: {'max_depth': 23, 'n_estimators': 150, 'min_samples_split': 2, 'min_samples_leaf': 1, 'max_features': 5}\n",
      "INFO:root:Random Forest Feature Importance [0.00000000e+00 1.57967035e-01 1.87195214e-01 1.95967986e-01\n",
      " 4.24533117e-02 2.44579213e-02 3.82462204e-02 5.75786875e-02\n",
      " 1.93302861e-04 0.00000000e+00 6.67162143e-03 0.00000000e+00\n",
      " 8.75361488e-04 2.04806125e-02 4.64403039e-04 2.95747434e-02\n",
      " 0.00000000e+00 1.62375983e-04 5.75131413e-03 0.00000000e+00\n",
      " 3.62398716e-03 0.00000000e+00 0.00000000e+00 3.95917476e-02\n",
      " 3.94411722e-04 2.59749050e-02 1.36438572e-02 1.59103996e-02\n",
      " 1.90507493e-02 2.61467957e-02 0.00000000e+00 0.00000000e+00\n",
      " 0.00000000e+00 0.00000000e+00 0.00000000e+00 0.00000000e+00\n",
      " 2.66995042e-02 2.72268996e-04 9.55419752e-03 1.85206452e-02\n",
      " 4.48539974e-03 4.88218663e-03 1.40026895e-02 9.20614441e-03]\n"
     ]
    },
    {
     "name": "stdout",
     "output_type": "stream",
     "text": [
      "{'max_depth': 23, 'n_estimators': 150, 'min_samples_split': 2, 'min_samples_leaf': 1, 'max_features': 5}\n"
     ]
    }
   ],
   "source": [
    "from sklearn.model_selection import train_test_split\n",
    "from utils import rf_regress_params_tuner\n",
    "\n",
    "\n",
    "field_goals_dummies = fourth_down_dummies[\n",
    "    fourth_down_dummies[\"play_type\"].isin(\n",
    "        [\n",
    "            \"Field Goal Good\",\n",
    "            \"Missed Field Goal Return Touchdown\",\n",
    "            \"Missed Field Goal Return\",\n",
    "            \"Blocked Field Goal\",\n",
    "            \"Field Goal Missed\",\n",
    "            \"Blocked Field Goal Touchdown\",\n",
    "        ]\n",
    "    )\n",
    "]\n",
    "\n",
    "predictors = field_goals_dummies.columns.drop(\n",
    "    [\"xPa\", \"play_type\"]\n",
    ")  # predictor variables used: all variables besides the target variable\n",
    "target = field_goals_dummies[\"xPa\"].values  # target variable\n",
    "\n",
    "\n",
    "# splits the subset into a training set to fit the models on and a testing set to test the models on for their accuracy\n",
    "fg_train_data, fg_test_data, fg_train_sln, fg_test_sln = train_test_split(\n",
    "    field_goals_dummies[predictors], target, test_size=0.2, random_state=0\n",
    ")\n",
    "\n",
    "field_goals_params = rf_regress_params_tuner(\n",
    "    fg_train_data, fg_test_data, fg_train_sln, fg_test_sln, field_goals_dummies\n",
    ")\n",
    "print(field_goals_params)"
   ]
  },
  {
   "cell_type": "code",
   "execution_count": 23,
   "metadata": {},
   "outputs": [
    {
     "name": "stderr",
     "output_type": "stream",
     "text": [
      "INFO:root:Best r2 after tuning max depth is: 0.0027442533117317813\n",
      "INFO:root:Best r2 after tuning n_estimators is: 0.0027442533117317813\n",
      "INFO:root:Best r2 after tuning min samples split is: 0.010531376336296083\n",
      "INFO:root:Best r2 after tuning min samples leaf is: 0.0151613940588875\n",
      "INFO:root:Best r2 after tuning max features is: 0.025811912808242354\n",
      "INFO:root:Final Model Accuracy 0.025811912808242354\n",
      "INFO:root:Tuned parameters: {'max_depth': 9, 'n_estimators': 100, 'min_samples_split': 5, 'min_samples_leaf': 2, 'max_features': 13}\n",
      "INFO:root:Random Forest Feature Importance [0.         0.18501133 0.41108216 0.11105338 0.01470847 0.06370977\n",
      " 0.0449716  0.05909482 0.         0.         0.         0.\n",
      " 0.         0.04613651 0.         0.01215118 0.         0.\n",
      " 0.         0.         0.         0.         0.         0.01841929\n",
      " 0.         0.         0.00957911 0.         0.01801586 0.\n",
      " 0.         0.         0.         0.         0.         0.\n",
      " 0.         0.         0.         0.         0.         0.\n",
      " 0.00606653 0.        ]\n"
     ]
    }
   ],
   "source": [
    "punts_dummies = fourth_down_dummies[\n",
    "    fourth_down_dummies[\"play_type\"].isin(\n",
    "        [\"Punt\", \"Blocked Punt\", \"Punt Return Touchdown\", \"Blocked Punt Touchdown\"]\n",
    "    )\n",
    "]\n",
    "\n",
    "\n",
    "predictors = punts_dummies.columns.drop(\n",
    "    [\"xPa\", \"play_type\"]\n",
    ")  # predictor variables used: all variables besides the target variable\n",
    "target = punts_dummies[\"xPa\"].values  # target variable\n",
    "\n",
    "\n",
    "# splits the subset into a training set to fit the models on and a testing set to test the models on for their accuracy\n",
    "punts_train_data, punts_test_data, punts_train_sln, punts_test_sln = train_test_split(\n",
    "    punts_dummies[predictors], target, test_size=0.2, random_state=0\n",
    ")\n",
    "\n",
    "punts_params = rf_regress_params_tuner(\n",
    "    punts_train_data, punts_test_data, punts_train_sln, punts_test_sln, punts_dummies\n",
    ")"
   ]
  },
  {
   "cell_type": "code",
   "execution_count": 29,
   "metadata": {},
   "outputs": [
    {
     "name": "stderr",
     "output_type": "stream",
     "text": [
      "INFO:root:Best r2 after tuning max depth is: -0.01210399989238753\n",
      "INFO:root:Best r2 after tuning n_estimators is: -0.010968486474240091\n",
      "INFO:root:Best r2 after tuning min samples split is: -0.010968486474240091\n",
      "INFO:root:Best r2 after tuning min samples leaf is: -0.010968486474240091\n",
      "INFO:root:Best r2 after tuning max features is: -0.00014295168461808672\n",
      "INFO:root:Final Model Accuracy -0.00014295168461808672\n",
      "INFO:root:Tuned parameters: {'max_depth': 1, 'n_estimators': 200, 'min_samples_split': 2, 'min_samples_leaf': 1, 'max_features': 1}\n",
      "INFO:root:Random Forest Feature Importance [0.    0.    0.01  0.    0.    0.    0.    0.    0.12  0.09  0.    0.\n",
      " 0.    0.    0.    0.    0.    0.115 0.    0.    0.    0.    0.    0.\n",
      " 0.02  0.07  0.    0.    0.    0.    0.    0.    0.    0.    0.    0.22\n",
      " 0.    0.    0.    0.015 0.01  0.    0.    0.33 ]\n"
     ]
    }
   ],
   "source": [
    "go_for_it_dummies = fourth_down_dummies[\n",
    "    ~fourth_down_dummies[\"play_type\"].isin(\n",
    "        [\n",
    "            \"Field Goal Good\",\n",
    "            \"Missed Field Goal Return Touchdown\",\n",
    "            \"Missed Field Goal Return\",\n",
    "            \"Blocked Field Goal\",\n",
    "            \"Field Goal Missed\",\n",
    "            \"Blocked Field Goal Touchdown\",\n",
    "            \"Punt\",\n",
    "            \"Blocked Punt\",\n",
    "            \"Punt Return Touchdown\",\n",
    "            \"Blocked Punt Touchdown\",\n",
    "            \"Penalty\",\n",
    "            \"Timeout\",\n",
    "            \"Kickoff Return (Offense)\",\n",
    "            \"Kickoff Return Touchdown\",\n",
    "        ]\n",
    "    )\n",
    "]\n",
    "\n",
    "\n",
    "predictors = go_for_it_dummies.columns.drop(\n",
    "    [\"xPa\", \"play_type\"]\n",
    ")  # predictor variables used: all variables besides the target variable\n",
    "target = go_for_it_dummies[\"xPa\"].values  # target variable\n",
    "\n",
    "\n",
    "# splits the subset into a training set to fit the models on and a testing set to test the models on for their accuracy\n",
    "(\n",
    "    go_for_it_train_data,\n",
    "    go_for_it_test_data,\n",
    "    go_for_it_train_sln,\n",
    "    go_for_it_test_sln,\n",
    ") = train_test_split(\n",
    "    go_for_it_dummies[predictors], target, test_size=0.2, random_state=0\n",
    ")\n",
    "\n",
    "go_for_it_params = rf_regress_params_tuner(\n",
    "    go_for_it_train_data,\n",
    "    go_for_it_test_data,\n",
    "    go_for_it_train_sln,\n",
    "    go_for_it_test_sln,\n",
    "    field_goals_dummies,\n",
    ")"
   ]
  },
  {
   "cell_type": "code",
   "execution_count": 25,
   "metadata": {},
   "outputs": [
    {
     "name": "stderr",
     "output_type": "stream",
     "text": [
      "/tmp/ipykernel_511/2883989057.py:16: SettingWithCopyWarning: \n",
      "A value is trying to be set on a copy of a slice from a DataFrame.\n",
      "Try using .loc[row_indexer,col_indexer] = value instead\n",
      "\n",
      "See the caveats in the documentation: https://pandas.pydata.org/pandas-docs/stable/user_guide/indexing.html#returning-a-view-versus-a-copy\n",
      "  fourth_down[\"field_goal_xPa\"] = predictions\n"
     ]
    },
    {
     "data": {
      "text/html": [
       "<div>\n",
       "<style scoped>\n",
       "    .dataframe tbody tr th:only-of-type {\n",
       "        vertical-align: middle;\n",
       "    }\n",
       "\n",
       "    .dataframe tbody tr th {\n",
       "        vertical-align: top;\n",
       "    }\n",
       "\n",
       "    .dataframe thead th {\n",
       "        text-align: right;\n",
       "    }\n",
       "</style>\n",
       "<table border=\"1\" class=\"dataframe\">\n",
       "  <thead>\n",
       "    <tr style=\"text-align: right;\">\n",
       "      <th></th>\n",
       "      <th>play_type</th>\n",
       "      <th>down</th>\n",
       "      <th>distance</th>\n",
       "      <th>time_intervals</th>\n",
       "      <th>field_position_intervals</th>\n",
       "      <th>score_differential</th>\n",
       "      <th>first_down_prob</th>\n",
       "      <th>xPa</th>\n",
       "      <th>field_goal_xPa</th>\n",
       "    </tr>\n",
       "  </thead>\n",
       "  <tbody>\n",
       "    <tr>\n",
       "      <th>10</th>\n",
       "      <td>Punt</td>\n",
       "      <td>4</td>\n",
       "      <td>3</td>\n",
       "      <td>1-4</td>\n",
       "      <td>51-55</td>\n",
       "      <td>0</td>\n",
       "      <td>0.407906</td>\n",
       "      <td>0.0</td>\n",
       "      <td>0.329731</td>\n",
       "    </tr>\n",
       "    <tr>\n",
       "      <th>33</th>\n",
       "      <td>Punt</td>\n",
       "      <td>4</td>\n",
       "      <td>6</td>\n",
       "      <td>7-10</td>\n",
       "      <td>26-30</td>\n",
       "      <td>7</td>\n",
       "      <td>0.342806</td>\n",
       "      <td>0.0</td>\n",
       "      <td>0.000000</td>\n",
       "    </tr>\n",
       "    <tr>\n",
       "      <th>64</th>\n",
       "      <td>Field Goal Missed</td>\n",
       "      <td>4</td>\n",
       "      <td>4</td>\n",
       "      <td>7-10</td>\n",
       "      <td>66-70</td>\n",
       "      <td>7</td>\n",
       "      <td>0.352690</td>\n",
       "      <td>0.0</td>\n",
       "      <td>0.000364</td>\n",
       "    </tr>\n",
       "    <tr>\n",
       "      <th>105</th>\n",
       "      <td>Punt</td>\n",
       "      <td>4</td>\n",
       "      <td>7</td>\n",
       "      <td>1-4</td>\n",
       "      <td>21-25</td>\n",
       "      <td>7</td>\n",
       "      <td>0.315556</td>\n",
       "      <td>0.0</td>\n",
       "      <td>0.000149</td>\n",
       "    </tr>\n",
       "    <tr>\n",
       "      <th>116</th>\n",
       "      <td>Punt</td>\n",
       "      <td>4</td>\n",
       "      <td>5</td>\n",
       "      <td>10-13</td>\n",
       "      <td>41-45</td>\n",
       "      <td>7</td>\n",
       "      <td>0.354812</td>\n",
       "      <td>0.0</td>\n",
       "      <td>0.001616</td>\n",
       "    </tr>\n",
       "  </tbody>\n",
       "</table>\n",
       "</div>"
      ],
      "text/plain": [
       "             play_type  down  distance time_intervals  \\\n",
       "10                Punt     4         3            1-4   \n",
       "33                Punt     4         6           7-10   \n",
       "64   Field Goal Missed     4         4           7-10   \n",
       "105               Punt     4         7            1-4   \n",
       "116               Punt     4         5          10-13   \n",
       "\n",
       "    field_position_intervals  score_differential  first_down_prob  xPa  \\\n",
       "10                     51-55                   0         0.407906  0.0   \n",
       "33                     26-30                   7         0.342806  0.0   \n",
       "64                     66-70                   7         0.352690  0.0   \n",
       "105                    21-25                   7         0.315556  0.0   \n",
       "116                    41-45                   7         0.354812  0.0   \n",
       "\n",
       "     field_goal_xPa  \n",
       "10         0.329731  \n",
       "33         0.000000  \n",
       "64         0.000364  \n",
       "105        0.000149  \n",
       "116        0.001616  "
      ]
     },
     "execution_count": 25,
     "metadata": {},
     "output_type": "execute_result"
    }
   ],
   "source": [
    "from sklearn.ensemble import RandomForestRegressor\n",
    "\n",
    "\n",
    "fg_forest = RandomForestRegressor(\n",
    "    max_depth=field_goals_params[\"max_depth\"],\n",
    "    n_estimators=field_goals_params[\"n_estimators\"],\n",
    "    min_samples_split=field_goals_params[\"min_samples_split\"],\n",
    "    min_samples_leaf=field_goals_params[\"min_samples_leaf\"],\n",
    "    max_features=field_goals_params[\"max_features\"],\n",
    "    random_state=0,\n",
    ")\n",
    "\n",
    "fg_forest.fit(fg_train_data, fg_train_sln)\n",
    "predictions = fg_forest.predict(prediction_set)\n",
    "\n",
    "fourth_down[\"field_goal_xPa\"] = predictions\n",
    "fourth_down.head()"
   ]
  },
  {
   "cell_type": "code",
   "execution_count": 26,
   "metadata": {},
   "outputs": [
    {
     "name": "stderr",
     "output_type": "stream",
     "text": [
      "/tmp/ipykernel_511/2068766211.py:13: SettingWithCopyWarning: \n",
      "A value is trying to be set on a copy of a slice from a DataFrame.\n",
      "Try using .loc[row_indexer,col_indexer] = value instead\n",
      "\n",
      "See the caveats in the documentation: https://pandas.pydata.org/pandas-docs/stable/user_guide/indexing.html#returning-a-view-versus-a-copy\n",
      "  fourth_down[\"punt_xPa\"] = predictions\n"
     ]
    }
   ],
   "source": [
    "punt_forest = RandomForestRegressor(\n",
    "    max_depth=punts_params[\"max_depth\"],\n",
    "    n_estimators=punts_params[\"n_estimators\"],\n",
    "    min_samples_split=punts_params[\"min_samples_split\"],\n",
    "    min_samples_leaf=punts_params[\"min_samples_leaf\"],\n",
    "    max_features=punts_params[\"max_features\"],\n",
    "    random_state=0,\n",
    ")\n",
    "\n",
    "punt_forest.fit(punts_train_data, punts_train_sln)\n",
    "predictions = punt_forest.predict(prediction_set)\n",
    "\n",
    "fourth_down[\"punt_xPa\"] = predictions"
   ]
  },
  {
   "cell_type": "code",
   "execution_count": 27,
   "metadata": {},
   "outputs": [
    {
     "name": "stderr",
     "output_type": "stream",
     "text": [
      "/tmp/ipykernel_511/1588984049.py:13: SettingWithCopyWarning: \n",
      "A value is trying to be set on a copy of a slice from a DataFrame.\n",
      "Try using .loc[row_indexer,col_indexer] = value instead\n",
      "\n",
      "See the caveats in the documentation: https://pandas.pydata.org/pandas-docs/stable/user_guide/indexing.html#returning-a-view-versus-a-copy\n",
      "  fourth_down[\"go_for_it_xPa\"] = predictions\n"
     ]
    }
   ],
   "source": [
    "gfi_forest = RandomForestRegressor(\n",
    "    max_depth=go_for_it_params[\"max_depth\"],\n",
    "    n_estimators=go_for_it_params[\"n_estimators\"],\n",
    "    min_samples_split=go_for_it_params[\"min_samples_split\"],\n",
    "    min_samples_leaf=go_for_it_params[\"min_samples_leaf\"],\n",
    "    max_features=go_for_it_params[\"max_features\"],\n",
    "    random_state=0,\n",
    ")\n",
    "\n",
    "gfi_forest.fit(go_for_it_train_data, go_for_it_train_sln)\n",
    "predictions = gfi_forest.predict(prediction_set)\n",
    "\n",
    "fourth_down[\"go_for_it_xPa\"] = predictions"
   ]
  },
  {
   "cell_type": "code",
   "execution_count": 28,
   "metadata": {},
   "outputs": [
    {
     "data": {
      "text/html": [
       "<div>\n",
       "<style scoped>\n",
       "    .dataframe tbody tr th:only-of-type {\n",
       "        vertical-align: middle;\n",
       "    }\n",
       "\n",
       "    .dataframe tbody tr th {\n",
       "        vertical-align: top;\n",
       "    }\n",
       "\n",
       "    .dataframe thead th {\n",
       "        text-align: right;\n",
       "    }\n",
       "</style>\n",
       "<table border=\"1\" class=\"dataframe\">\n",
       "  <thead>\n",
       "    <tr style=\"text-align: right;\">\n",
       "      <th></th>\n",
       "      <th>play_type</th>\n",
       "      <th>down</th>\n",
       "      <th>distance</th>\n",
       "      <th>time_intervals</th>\n",
       "      <th>field_position_intervals</th>\n",
       "      <th>score_differential</th>\n",
       "      <th>first_down_prob</th>\n",
       "      <th>xPa</th>\n",
       "      <th>field_goal_xPa</th>\n",
       "      <th>punt_xPa</th>\n",
       "      <th>go_for_it_xPa</th>\n",
       "    </tr>\n",
       "  </thead>\n",
       "  <tbody>\n",
       "    <tr>\n",
       "      <th>10</th>\n",
       "      <td>Punt</td>\n",
       "      <td>4</td>\n",
       "      <td>3</td>\n",
       "      <td>1-4</td>\n",
       "      <td>51-55</td>\n",
       "      <td>0</td>\n",
       "      <td>0.407906</td>\n",
       "      <td>0.0</td>\n",
       "      <td>0.329731</td>\n",
       "      <td>0.000000</td>\n",
       "      <td>-0.001656</td>\n",
       "    </tr>\n",
       "    <tr>\n",
       "      <th>33</th>\n",
       "      <td>Punt</td>\n",
       "      <td>4</td>\n",
       "      <td>6</td>\n",
       "      <td>7-10</td>\n",
       "      <td>26-30</td>\n",
       "      <td>7</td>\n",
       "      <td>0.342806</td>\n",
       "      <td>0.0</td>\n",
       "      <td>0.000000</td>\n",
       "      <td>-0.000524</td>\n",
       "      <td>-0.001558</td>\n",
       "    </tr>\n",
       "    <tr>\n",
       "      <th>64</th>\n",
       "      <td>Field Goal Missed</td>\n",
       "      <td>4</td>\n",
       "      <td>4</td>\n",
       "      <td>7-10</td>\n",
       "      <td>66-70</td>\n",
       "      <td>7</td>\n",
       "      <td>0.352690</td>\n",
       "      <td>0.0</td>\n",
       "      <td>0.000364</td>\n",
       "      <td>-0.000169</td>\n",
       "      <td>-0.001490</td>\n",
       "    </tr>\n",
       "    <tr>\n",
       "      <th>105</th>\n",
       "      <td>Punt</td>\n",
       "      <td>4</td>\n",
       "      <td>7</td>\n",
       "      <td>1-4</td>\n",
       "      <td>21-25</td>\n",
       "      <td>7</td>\n",
       "      <td>0.315556</td>\n",
       "      <td>0.0</td>\n",
       "      <td>0.000149</td>\n",
       "      <td>-0.001600</td>\n",
       "      <td>-0.001629</td>\n",
       "    </tr>\n",
       "    <tr>\n",
       "      <th>116</th>\n",
       "      <td>Punt</td>\n",
       "      <td>4</td>\n",
       "      <td>5</td>\n",
       "      <td>10-13</td>\n",
       "      <td>41-45</td>\n",
       "      <td>7</td>\n",
       "      <td>0.354812</td>\n",
       "      <td>0.0</td>\n",
       "      <td>0.001616</td>\n",
       "      <td>0.000000</td>\n",
       "      <td>-0.002460</td>\n",
       "    </tr>\n",
       "  </tbody>\n",
       "</table>\n",
       "</div>"
      ],
      "text/plain": [
       "             play_type  down  distance time_intervals  \\\n",
       "10                Punt     4         3            1-4   \n",
       "33                Punt     4         6           7-10   \n",
       "64   Field Goal Missed     4         4           7-10   \n",
       "105               Punt     4         7            1-4   \n",
       "116               Punt     4         5          10-13   \n",
       "\n",
       "    field_position_intervals  score_differential  first_down_prob  xPa  \\\n",
       "10                     51-55                   0         0.407906  0.0   \n",
       "33                     26-30                   7         0.342806  0.0   \n",
       "64                     66-70                   7         0.352690  0.0   \n",
       "105                    21-25                   7         0.315556  0.0   \n",
       "116                    41-45                   7         0.354812  0.0   \n",
       "\n",
       "     field_goal_xPa  punt_xPa  go_for_it_xPa  \n",
       "10         0.329731  0.000000      -0.001656  \n",
       "33         0.000000 -0.000524      -0.001558  \n",
       "64         0.000364 -0.000169      -0.001490  \n",
       "105        0.000149 -0.001600      -0.001629  \n",
       "116        0.001616  0.000000      -0.002460  "
      ]
     },
     "execution_count": 28,
     "metadata": {},
     "output_type": "execute_result"
    }
   ],
   "source": [
    "fourth_down.head()"
   ]
  },
  {
   "cell_type": "code",
   "execution_count": null,
   "metadata": {},
   "outputs": [
    {
     "ename": "",
     "evalue": "",
     "output_type": "error",
     "traceback": [
      "\u001b[1;31mRunning cells with 'football' requires the ipykernel package.\n",
      "\u001b[1;31mRun the following command to install 'ipykernel' into the Python environment. \n",
      "\u001b[1;31mCommand: 'c:/Users/jordb/analytics/football/Scripts/python.exe -m pip install ipykernel -U --force-reinstall'"
     ]
    }
   ],
   "source": [
    "conditions = [\n",
    "    (fourth_down[\"field_goal_xPa\"] > fourth_down[\"punt_xPa\"])\n",
    "    & (fourth_down[\"field_goal_xPa\"] > fourth_down[\"go_for_it_xPa\"]),\n",
    "    (fourth_down[\"punt_xPa\"] > fourth_down[\"field_goal_xPa\"])\n",
    "    & (fourth_down[\"punt_xPa\"] > fourth_down[\"go_for_it_xPa\"]),\n",
    "    (fourth_down[\"go_for_it_xPa\"] > fourth_down[\"field_goal_xPa\"])\n",
    "    & (fourth_down[\"go_for_it_xPa\"] > fourth_down[\"punt_xPa\"]),\n",
    "]\n",
    "\n",
    "values = [\"Attempt FG\", \"Punt\", \"Go For It\"]\n",
    "\n",
    "fourth_down[\"suggested_decision\"] = np.select(conditions, values)\n",
    "\n",
    "fourth_down.to_excel(\"fourth_down_decision_making.xlsx\", index=False)"
   ]
  },
  {
   "cell_type": "code",
   "execution_count": null,
   "metadata": {},
   "outputs": [
    {
     "ename": "",
     "evalue": "",
     "output_type": "error",
     "traceback": [
      "\u001b[1;31mRunning cells with 'football' requires the ipykernel package.\n",
      "\u001b[1;31mRun the following command to install 'ipykernel' into the Python environment. \n",
      "\u001b[1;31mCommand: 'c:/Users/jordb/analytics/football/Scripts/python.exe -m pip install ipykernel -U --force-reinstall'"
     ]
    }
   ],
   "source": []
  }
 ],
 "metadata": {
  "kernelspec": {
   "display_name": "test",
   "language": "python",
   "name": "python3"
  },
  "language_info": {
   "codemirror_mode": {
    "name": "ipython",
    "version": 3
   },
   "file_extension": ".py",
   "mimetype": "text/x-python",
   "name": "python",
   "nbconvert_exporter": "python",
   "pygments_lexer": "ipython3",
   "version": "3.11.4"
  },
  "orig_nbformat": 4
 },
 "nbformat": 4,
 "nbformat_minor": 2
}
